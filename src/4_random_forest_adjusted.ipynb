{
 "cells": [
  {
   "cell_type": "code",
   "execution_count": 10,
   "metadata": {},
   "outputs": [
    {
     "name": "stdout",
     "output_type": "stream",
     "text": [
      "Fitting 3 folds for each of 96 candidates, totalling 288 fits\n"
     ]
    },
    {
     "name": "stderr",
     "output_type": "stream",
     "text": [
      "c:\\Users\\jesus\\anaconda3\\Lib\\site-packages\\sklearn\\model_selection\\_validation.py:540: FitFailedWarning: \n",
      "144 fits failed out of a total of 288.\n",
      "The score on these train-test partitions for these parameters will be set to nan.\n",
      "If these failures are not expected, you can try to debug them by setting error_score='raise'.\n",
      "\n",
      "Below are more details about the failures:\n",
      "--------------------------------------------------------------------------------\n",
      "98 fits failed with the following error:\n",
      "Traceback (most recent call last):\n",
      "  File \"c:\\Users\\jesus\\anaconda3\\Lib\\site-packages\\sklearn\\model_selection\\_validation.py\", line 888, in _fit_and_score\n",
      "    estimator.fit(X_train, y_train, **fit_params)\n",
      "  File \"c:\\Users\\jesus\\anaconda3\\Lib\\site-packages\\sklearn\\base.py\", line 1466, in wrapper\n",
      "    estimator._validate_params()\n",
      "  File \"c:\\Users\\jesus\\anaconda3\\Lib\\site-packages\\sklearn\\base.py\", line 666, in _validate_params\n",
      "    validate_parameter_constraints(\n",
      "  File \"c:\\Users\\jesus\\anaconda3\\Lib\\site-packages\\sklearn\\utils\\_param_validation.py\", line 95, in validate_parameter_constraints\n",
      "    raise InvalidParameterError(\n",
      "sklearn.utils._param_validation.InvalidParameterError: The 'max_features' parameter of RandomForestClassifier must be an int in the range [1, inf), a float in the range (0.0, 1.0], a str among {'sqrt', 'log2'} or None. Got 'auto' instead.\n",
      "\n",
      "--------------------------------------------------------------------------------\n",
      "46 fits failed with the following error:\n",
      "Traceback (most recent call last):\n",
      "  File \"c:\\Users\\jesus\\anaconda3\\Lib\\site-packages\\sklearn\\model_selection\\_validation.py\", line 888, in _fit_and_score\n",
      "    estimator.fit(X_train, y_train, **fit_params)\n",
      "  File \"c:\\Users\\jesus\\anaconda3\\Lib\\site-packages\\sklearn\\base.py\", line 1466, in wrapper\n",
      "    estimator._validate_params()\n",
      "  File \"c:\\Users\\jesus\\anaconda3\\Lib\\site-packages\\sklearn\\base.py\", line 666, in _validate_params\n",
      "    validate_parameter_constraints(\n",
      "  File \"c:\\Users\\jesus\\anaconda3\\Lib\\site-packages\\sklearn\\utils\\_param_validation.py\", line 95, in validate_parameter_constraints\n",
      "    raise InvalidParameterError(\n",
      "sklearn.utils._param_validation.InvalidParameterError: The 'max_features' parameter of RandomForestClassifier must be an int in the range [1, inf), a float in the range (0.0, 1.0], a str among {'log2', 'sqrt'} or None. Got 'auto' instead.\n",
      "\n",
      "  warnings.warn(some_fits_failed_message, FitFailedWarning)\n",
      "c:\\Users\\jesus\\anaconda3\\Lib\\site-packages\\sklearn\\model_selection\\_search.py:1102: UserWarning: One or more of the test scores are non-finite: [       nan        nan        nan        nan        nan        nan\n",
      "        nan        nan 0.91382576 0.91647727 0.91704545 0.91732955\n",
      " 0.91458333 0.91600379 0.91534091 0.91429924        nan        nan\n",
      "        nan        nan        nan        nan        nan        nan\n",
      " 0.91477273 0.91581439 0.91429924 0.91543561 0.91496212 0.91335227\n",
      " 0.91448864 0.91496212        nan        nan        nan        nan\n",
      "        nan        nan        nan        nan 0.915625   0.91723485\n",
      " 0.91496212 0.91505682 0.91335227 0.9155303  0.91609848 0.91515152\n",
      "        nan        nan        nan        nan        nan        nan\n",
      "        nan        nan 0.91609848 0.91439394 0.91590909 0.91609848\n",
      " 0.9155303  0.91515152 0.91732955 0.91543561        nan        nan\n",
      "        nan        nan        nan        nan        nan        nan\n",
      " 0.91704545 0.91590909 0.915625   0.91581439 0.9157197  0.91534091\n",
      " 0.91477273 0.91628788        nan        nan        nan        nan\n",
      "        nan        nan        nan        nan 0.91714015 0.91505682\n",
      " 0.91600379 0.91458333 0.91742424 0.91496212 0.91496212 0.91467803]\n",
      "  warnings.warn(\n"
     ]
    },
    {
     "name": "stdout",
     "output_type": "stream",
     "text": [
      "Accuracy: 0.9113636363636364\n",
      "Best Parameters: {'bootstrap': False, 'max_depth': None, 'max_features': 'sqrt', 'min_samples_leaf': 2, 'min_samples_split': 2, 'n_estimators': 15}\n"
     ]
    }
   ],
   "source": [
    "import pandas as pd\n",
    "import matplotlib.pyplot as plt\n",
    "import seaborn as sns\n",
    "from sklearn.metrics import confusion_matrix\n",
    "from sklearn.model_selection import train_test_split, GridSearchCV\n",
    "from sklearn.preprocessing import StandardScaler, LabelEncoder\n",
    "from sklearn.preprocessing import MinMaxScaler\n",
    "from sklearn.ensemble import RandomForestClassifier\n",
    "from sklearn.metrics import accuracy_score\n",
    "from sklearn.metrics import classification_report\n",
    "\n",
    "# Cargar los datos\n",
    "data = pd.read_csv('../data/processed/weather_classification_data.csv')\n",
    "\n",
    "# Preprocesar los datos\n",
    "# Codificar variables categóricas\n",
    "label_encoder = LabelEncoder()\n",
    "data['weather_type'] = label_encoder.fit_transform(data['weather_type'])\n",
    "data['cloud_cover'] = label_encoder.fit_transform(data['cloud_cover'])\n",
    "data['season'] = label_encoder.fit_transform(data['season'])\n",
    "data['location'] = label_encoder.fit_transform(data['location'])\n",
    "\n",
    "# Separar características y etiquetas\n",
    "X = data.drop('weather_type', axis=1)\n",
    "y = data['weather_type']\n",
    "\n",
    "# Dividir los datos en conjuntos de entrenamiento y prueba\n",
    "X_train, X_test, y_train, y_test = train_test_split(X, y, test_size=0.2, random_state=42)\n",
    "\n",
    "# Estandarizar los datos\n",
    "scaler = StandardScaler()\n",
    "X_train_standarized = scaler.fit_transform(X_train)\n",
    "X_test_standarized = scaler.transform(X_test)\n",
    "\n",
    "# Ajustar los parámetros del Random Forest\n",
    "param_grid = {\n",
    "    'n_estimators': [15, 20],\n",
    "    'max_features': ['auto', 'sqrt'],\n",
    "    'max_depth': [10, 20, None],\n",
    "    'min_samples_split': [2, 5],\n",
    "    'min_samples_leaf': [1, 2],\n",
    "    'bootstrap': [True, False]\n",
    "}\n",
    "\n",
    "# param_grid = {\n",
    "#     'n_estimators': [150, 200],\n",
    "#     'max_features': ['sqrt', 'log2'],\n",
    "#     'max_depth': [15, 20, None],\n",
    "#     'min_samples_split': [2, 5],\n",
    "#     'min_samples_leaf': [1, 2],\n",
    "#     'bootstrap': [True, False]\n",
    "# }\n",
    "\n",
    "grid_search = GridSearchCV(estimator=RandomForestClassifier(), param_grid=param_grid, cv=3, n_jobs=-1, verbose=2)\n",
    "grid_search.fit(X_train_standarized, y_train)\n",
    "\n",
    "# Entrenar el modelo con los mejores parámetros\n",
    "best_params = grid_search.best_params_\n",
    "rnd_clf = RandomForestClassifier(**best_params)\n",
    "rnd_clf.fit(X_train_standarized, y_train)\n",
    "\n",
    "# Predecir\n",
    "y_pred = rnd_clf.predict(X_test_standarized)\n",
    "\n",
    "# Evaluar\n",
    "accuracy = accuracy_score(y_test, y_pred)\n",
    "print(f'Accuracy: {accuracy}')\n",
    "print(f'Best Parameters: {best_params}')"
   ]
  },
  {
   "cell_type": "code",
   "execution_count": 11,
   "metadata": {},
   "outputs": [
    {
     "name": "stdout",
     "output_type": "stream",
     "text": [
      "              precision    recall  f1-score   support\n",
      "\n",
      "           0       0.88      0.90      0.89       651\n",
      "           1       0.91      0.90      0.90       647\n",
      "           2       0.92      0.94      0.93       701\n",
      "           3       0.94      0.90      0.92       641\n",
      "\n",
      "    accuracy                           0.91      2640\n",
      "   macro avg       0.91      0.91      0.91      2640\n",
      "weighted avg       0.91      0.91      0.91      2640\n",
      "\n"
     ]
    }
   ],
   "source": [
    "print(classification_report(y_test, y_pred))"
   ]
  },
  {
   "cell_type": "code",
   "execution_count": 12,
   "metadata": {},
   "outputs": [
    {
     "data": {
      "image/png": "[encoded data removed]",
      "text/plain": [
       "<Figure size 1000x700 with 2 Axes>"
      ]
     },
     "metadata": {},
     "output_type": "display_data"
    }
   ],
   "source": [
    "cm = confusion_matrix(y_test, y_pred)\n",
    "plt.figure(figsize=(10, 7))\n",
    "sns.heatmap(cm, annot=True, fmt='d', cmap='coolwarm')\n",
    "plt.xlabel('Predicted')\n",
    "plt.ylabel('Truth')\n",
    "plt.show()\n"
   ]
  },
  {
   "cell_type": "markdown",
   "metadata": {},
   "source": [
    "## Con métricas reales de estación meteorológica (con estandarización)"
   ]
  },
  {
   "cell_type": "code",
   "execution_count": 13,
   "metadata": {},
   "outputs": [
    {
     "name": "stdout",
     "output_type": "stream",
     "text": [
      "Fitting 3 folds for each of 96 candidates, totalling 288 fits\n"
     ]
    },
    {
     "name": "stderr",
     "output_type": "stream",
     "text": [
      "c:\\Users\\jesus\\anaconda3\\Lib\\site-packages\\sklearn\\model_selection\\_validation.py:540: FitFailedWarning: \n",
      "144 fits failed out of a total of 288.\n",
      "The score on these train-test partitions for these parameters will be set to nan.\n",
      "If these failures are not expected, you can try to debug them by setting error_score='raise'.\n",
      "\n",
      "Below are more details about the failures:\n",
      "--------------------------------------------------------------------------------\n",
      "102 fits failed with the following error:\n",
      "Traceback (most recent call last):\n",
      "  File \"c:\\Users\\jesus\\anaconda3\\Lib\\site-packages\\sklearn\\model_selection\\_validation.py\", line 888, in _fit_and_score\n",
      "    estimator.fit(X_train, y_train, **fit_params)\n",
      "  File \"c:\\Users\\jesus\\anaconda3\\Lib\\site-packages\\sklearn\\base.py\", line 1466, in wrapper\n",
      "    estimator._validate_params()\n",
      "  File \"c:\\Users\\jesus\\anaconda3\\Lib\\site-packages\\sklearn\\base.py\", line 666, in _validate_params\n",
      "    validate_parameter_constraints(\n",
      "  File \"c:\\Users\\jesus\\anaconda3\\Lib\\site-packages\\sklearn\\utils\\_param_validation.py\", line 95, in validate_parameter_constraints\n",
      "    raise InvalidParameterError(\n",
      "sklearn.utils._param_validation.InvalidParameterError: The 'max_features' parameter of RandomForestClassifier must be an int in the range [1, inf), a float in the range (0.0, 1.0], a str among {'log2', 'sqrt'} or None. Got 'auto' instead.\n",
      "\n",
      "--------------------------------------------------------------------------------\n",
      "42 fits failed with the following error:\n",
      "Traceback (most recent call last):\n",
      "  File \"c:\\Users\\jesus\\anaconda3\\Lib\\site-packages\\sklearn\\model_selection\\_validation.py\", line 888, in _fit_and_score\n",
      "    estimator.fit(X_train, y_train, **fit_params)\n",
      "  File \"c:\\Users\\jesus\\anaconda3\\Lib\\site-packages\\sklearn\\base.py\", line 1466, in wrapper\n",
      "    estimator._validate_params()\n",
      "  File \"c:\\Users\\jesus\\anaconda3\\Lib\\site-packages\\sklearn\\base.py\", line 666, in _validate_params\n",
      "    validate_parameter_constraints(\n",
      "  File \"c:\\Users\\jesus\\anaconda3\\Lib\\site-packages\\sklearn\\utils\\_param_validation.py\", line 95, in validate_parameter_constraints\n",
      "    raise InvalidParameterError(\n",
      "sklearn.utils._param_validation.InvalidParameterError: The 'max_features' parameter of RandomForestClassifier must be an int in the range [1, inf), a float in the range (0.0, 1.0], a str among {'sqrt', 'log2'} or None. Got 'auto' instead.\n",
      "\n",
      "  warnings.warn(some_fits_failed_message, FitFailedWarning)\n",
      "c:\\Users\\jesus\\anaconda3\\Lib\\site-packages\\sklearn\\model_selection\\_search.py:1102: UserWarning: One or more of the test scores are non-finite: [       nan        nan        nan        nan        nan        nan\n",
      "        nan        nan 0.903125   0.90473485 0.90568182 0.90833333\n",
      " 0.90388258 0.90435606 0.90492424 0.90909091        nan        nan\n",
      "        nan        nan        nan        nan        nan        nan\n",
      " 0.90378788 0.90643939 0.9030303  0.90625    0.90539773 0.90482955\n",
      " 0.9032197  0.90681818        nan        nan        nan        nan\n",
      "        nan        nan        nan        nan 0.90378788 0.90757576\n",
      " 0.90340909 0.90397727 0.90596591 0.90426136 0.90454545 0.90719697\n",
      "        nan        nan        nan        nan        nan        nan\n",
      "        nan        nan 0.90899621 0.90662879 0.90435606 0.90549242\n",
      " 0.90662879 0.90625    0.90530303 0.90501894        nan        nan\n",
      "        nan        nan        nan        nan        nan        nan\n",
      " 0.90501894 0.90568182 0.90577652 0.90852273 0.9032197  0.9032197\n",
      " 0.90681818 0.90558712        nan        nan        nan        nan\n",
      "        nan        nan        nan        nan 0.90530303 0.90350379\n",
      " 0.90596591 0.90748106 0.90606061 0.9063447  0.90871212 0.90880682]\n",
      "  warnings.warn(\n"
     ]
    },
    {
     "name": "stdout",
     "output_type": "stream",
     "text": [
      "Accuracy: 0.9030303030303031\n",
      "Best Parameters: {'bootstrap': True, 'max_depth': 10, 'max_features': 'sqrt', 'min_samples_leaf': 2, 'min_samples_split': 5, 'n_estimators': 20}\n"
     ]
    }
   ],
   "source": [
    "data = pd.read_csv('../data/processed/weather_classification_data.csv')\n",
    "\n",
    "# Drop meaningless columns\n",
    "data = data.drop(['season', 'location', 'cloud_cover'], axis=1)\n",
    "\n",
    "# Separar características y etiquetas\n",
    "X = data.drop('weather_type', axis=1)\n",
    "y = data['weather_type']\n",
    "\n",
    "# Dividir los datos en conjuntos de entrenamiento y prueba\n",
    "X_train, X_test, y_train, y_test = train_test_split(X, y, test_size=0.2, random_state=42)\n",
    "\n",
    "# Estandarizar los datos\n",
    "scaler = StandardScaler()\n",
    "X_train_standarized = scaler.fit_transform(X_train)\n",
    "X_test_standarized = scaler.transform(X_test)\n",
    "\n",
    "grid_search = GridSearchCV(estimator=RandomForestClassifier(), param_grid=param_grid, cv=3, n_jobs=-1, verbose=2)\n",
    "grid_search.fit(X_train_standarized, y_train)\n",
    "\n",
    "# Entrenar el modelo con los mejores parámetros\n",
    "best_params = grid_search.best_params_\n",
    "rnd_clf = RandomForestClassifier(**best_params)\n",
    "rnd_clf.fit(X_train_standarized, y_train)\n",
    "\n",
    "# Predecir\n",
    "y_pred = rnd_clf.predict(X_test_standarized)\n",
    "\n",
    "# Evaluar\n",
    "accuracy = accuracy_score(y_test, y_pred)\n",
    "print(f'Accuracy: {accuracy}')\n",
    "print(f'Best Parameters: {best_params}')"
   ]
  },
  {
   "cell_type": "markdown",
   "metadata": {},
   "source": [
    "## Con métricas reales de estación meteorológica (con normalización)"
   ]
  },
  {
   "cell_type": "code",
   "execution_count": 14,
   "metadata": {},
   "outputs": [
    {
     "name": "stdout",
     "output_type": "stream",
     "text": [
      "Fitting 3 folds for each of 96 candidates, totalling 288 fits\n"
     ]
    },
    {
     "name": "stderr",
     "output_type": "stream",
     "text": [
      "c:\\Users\\jesus\\anaconda3\\Lib\\site-packages\\sklearn\\model_selection\\_validation.py:540: FitFailedWarning: \n",
      "144 fits failed out of a total of 288.\n",
      "The score on these train-test partitions for these parameters will be set to nan.\n",
      "If these failures are not expected, you can try to debug them by setting error_score='raise'.\n",
      "\n",
      "Below are more details about the failures:\n",
      "--------------------------------------------------------------------------------\n",
      "88 fits failed with the following error:\n",
      "Traceback (most recent call last):\n",
      "  File \"c:\\Users\\jesus\\anaconda3\\Lib\\site-packages\\sklearn\\model_selection\\_validation.py\", line 888, in _fit_and_score\n",
      "    estimator.fit(X_train, y_train, **fit_params)\n",
      "  File \"c:\\Users\\jesus\\anaconda3\\Lib\\site-packages\\sklearn\\base.py\", line 1466, in wrapper\n",
      "    estimator._validate_params()\n",
      "  File \"c:\\Users\\jesus\\anaconda3\\Lib\\site-packages\\sklearn\\base.py\", line 666, in _validate_params\n",
      "    validate_parameter_constraints(\n",
      "  File \"c:\\Users\\jesus\\anaconda3\\Lib\\site-packages\\sklearn\\utils\\_param_validation.py\", line 95, in validate_parameter_constraints\n",
      "    raise InvalidParameterError(\n",
      "sklearn.utils._param_validation.InvalidParameterError: The 'max_features' parameter of RandomForestClassifier must be an int in the range [1, inf), a float in the range (0.0, 1.0], a str among {'log2', 'sqrt'} or None. Got 'auto' instead.\n",
      "\n",
      "--------------------------------------------------------------------------------\n",
      "56 fits failed with the following error:\n",
      "Traceback (most recent call last):\n",
      "  File \"c:\\Users\\jesus\\anaconda3\\Lib\\site-packages\\sklearn\\model_selection\\_validation.py\", line 888, in _fit_and_score\n",
      "    estimator.fit(X_train, y_train, **fit_params)\n",
      "  File \"c:\\Users\\jesus\\anaconda3\\Lib\\site-packages\\sklearn\\base.py\", line 1466, in wrapper\n",
      "    estimator._validate_params()\n",
      "  File \"c:\\Users\\jesus\\anaconda3\\Lib\\site-packages\\sklearn\\base.py\", line 666, in _validate_params\n",
      "    validate_parameter_constraints(\n",
      "  File \"c:\\Users\\jesus\\anaconda3\\Lib\\site-packages\\sklearn\\utils\\_param_validation.py\", line 95, in validate_parameter_constraints\n",
      "    raise InvalidParameterError(\n",
      "sklearn.utils._param_validation.InvalidParameterError: The 'max_features' parameter of RandomForestClassifier must be an int in the range [1, inf), a float in the range (0.0, 1.0], a str among {'sqrt', 'log2'} or None. Got 'auto' instead.\n",
      "\n",
      "  warnings.warn(some_fits_failed_message, FitFailedWarning)\n",
      "c:\\Users\\jesus\\anaconda3\\Lib\\site-packages\\sklearn\\model_selection\\_search.py:1102: UserWarning: One or more of the test scores are non-finite: [       nan        nan        nan        nan        nan        nan\n",
      "        nan        nan 0.90568182 0.9092803  0.90606061 0.90454545\n",
      " 0.90691288 0.90587121 0.90606061 0.90501894        nan        nan\n",
      "        nan        nan        nan        nan        nan        nan\n",
      " 0.90492424 0.90359848 0.90776515 0.90464015 0.90662879 0.90710227\n",
      " 0.90359848 0.90445076        nan        nan        nan        nan\n",
      "        nan        nan        nan        nan 0.90587121 0.90482955\n",
      " 0.90378788 0.90501894 0.90397727 0.90369318 0.90388258 0.90691288\n",
      "        nan        nan        nan        nan        nan        nan\n",
      "        nan        nan 0.90530303 0.90700758 0.9061553  0.90511364\n",
      " 0.90587121 0.90691288 0.90568182 0.90511364        nan        nan\n",
      "        nan        nan        nan        nan        nan        nan\n",
      " 0.90445076 0.90520833 0.90577652 0.90558712 0.90596591 0.90587121\n",
      " 0.90435606 0.90388258        nan        nan        nan        nan\n",
      "        nan        nan        nan        nan 0.90587121 0.90587121\n",
      " 0.90587121 0.90511364 0.9032197  0.90511364 0.90482955 0.90653409]\n",
      "  warnings.warn(\n"
     ]
    },
    {
     "name": "stdout",
     "output_type": "stream",
     "text": [
      "Accuracy: 0.9049242424242424\n",
      "Best Parameters: {'bootstrap': True, 'max_depth': 10, 'max_features': 'sqrt', 'min_samples_leaf': 1, 'min_samples_split': 2, 'n_estimators': 20}\n"
     ]
    }
   ],
   "source": [
    "# Load the data\n",
    "data = pd.read_csv('../data/processed/weather_classification_data.csv')\n",
    "\n",
    "# Drop meaningless columns\n",
    "data = data.drop(['season', 'location', 'cloud_cover'], axis=1)\n",
    "\n",
    "# Separar características y etiquetas\n",
    "X = data.drop('weather_type', axis=1)\n",
    "y = data['weather_type']\n",
    "\n",
    "# Dividir los datos en conjuntos de entrenamiento y prueba\n",
    "X_train, X_test, y_train, y_test = train_test_split(X, y, test_size=0.2, random_state=42)\n",
    "\n",
    "# Normalizar los datos\n",
    "scaler = MinMaxScaler()\n",
    "X_train_normalized = scaler.fit_transform(X_train)\n",
    "X_test_normalized = scaler.transform(X_test)\n",
    "\n",
    "# Realizar la búsqueda en cuadrícula con validación cruzada\n",
    "grid_search = GridSearchCV(estimator=RandomForestClassifier(), param_grid=param_grid, cv=3, n_jobs=-1, verbose=2)\n",
    "grid_search.fit(X_train_normalized, y_train)\n",
    "\n",
    "# Entrenar el modelo con los mejores parámetros\n",
    "best_params = grid_search.best_params_\n",
    "rnd_clf = RandomForestClassifier(**best_params)\n",
    "rnd_clf.fit(X_train_normalized, y_train)\n",
    "\n",
    "# Predecir\n",
    "y_pred = rnd_clf.predict(X_test_normalized)\n",
    "\n",
    "# Evaluar\n",
    "accuracy = accuracy_score(y_test, y_pred)\n",
    "print(f'Accuracy: {accuracy}')\n",
    "print(f'Best Parameters: {best_params}')"
   ]
  }
 ],
 "metadata": {
  "kernelspec": {
   "display_name": "base",
   "language": "python",
   "name": "python3"
  },
  "language_info": {
   "codemirror_mode": {
    "name": "ipython",
    "version": 3
   },
   "file_extension": ".py",
   "mimetype": "text/x-python",
   "name": "python",
   "nbconvert_exporter": "python",
   "pygments_lexer": "ipython3",
   "version": "3.12.7"
  }
 },
 "nbformat": 4,
 "nbformat_minor": 2
}
