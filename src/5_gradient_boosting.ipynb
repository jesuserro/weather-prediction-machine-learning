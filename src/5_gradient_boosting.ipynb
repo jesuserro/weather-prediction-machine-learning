{
 "cells": [
  {
   "cell_type": "code",
   "execution_count": 3,
   "metadata": {},
   "outputs": [
    {
     "name": "stdout",
     "output_type": "stream",
     "text": [
      "Fitting 3 folds for each of 32 candidates, totalling 96 fits\n",
      "Accuracy: 0.9109848484848485\n",
      "Best Parameters: {'learning_rate': 0.1, 'max_depth': 5, 'min_samples_leaf': 2, 'min_samples_split': 5, 'n_estimators': 50}\n"
     ]
    }
   ],
   "source": [
    "import pandas as pd\n",
    "from sklearn.model_selection import train_test_split, GridSearchCV\n",
    "from sklearn.preprocessing import StandardScaler, LabelEncoder\n",
    "from sklearn.ensemble import GradientBoostingClassifier\n",
    "from sklearn.metrics import accuracy_score\n",
    "\n",
    "# Cargar los datos\n",
    "data = pd.read_csv('../data/processed/weather_classification_data.csv')\n",
    "\n",
    "# Preprocesar los datos\n",
    "# Codificar variables categóricas\n",
    "label_encoder = LabelEncoder()\n",
    "data['weather_type'] = label_encoder.fit_transform(data['weather_type'])\n",
    "data['cloud_cover'] = label_encoder.fit_transform(data['cloud_cover'])\n",
    "data['season'] = label_encoder.fit_transform(data['season'])\n",
    "data['location'] = label_encoder.fit_transform(data['location'])\n",
    "\n",
    "# Separar características y etiquetas\n",
    "X = data.drop('weather_type', axis=1)\n",
    "y = data['weather_type']\n",
    "\n",
    "# Dividir los datos en conjuntos de entrenamiento y prueba\n",
    "X_train, X_test, y_train, y_test = train_test_split(X, y, test_size=0.2, random_state=42)\n",
    "\n",
    "# Estandarizar los datos\n",
    "scaler = StandardScaler()\n",
    "X_train_standarized = scaler.fit_transform(X_train)\n",
    "X_test_standarized = scaler.transform(X_test)\n",
    "\n",
    "# Ajustar los parámetros del Gradient Boosting Classifier\n",
    "param_grid = {\n",
    "    'n_estimators': [25, 50],\n",
    "    'learning_rate': [0.01, 0.1],\n",
    "    'max_depth': [3, 5],\n",
    "    'min_samples_split': [2, 5],\n",
    "    'min_samples_leaf': [1, 2]\n",
    "}\n",
    "\n",
    "grid_search = GridSearchCV(estimator=GradientBoostingClassifier(), param_grid=param_grid, cv=3, n_jobs=-1, verbose=2)\n",
    "grid_search.fit(X_train_standarized, y_train)\n",
    "\n",
    "# Entrenar el modelo con los mejores parámetros\n",
    "best_params = grid_search.best_params_\n",
    "gb_clf = GradientBoostingClassifier(**best_params)\n",
    "gb_clf.fit(X_train_standarized, y_train)\n",
    "\n",
    "# Predecir\n",
    "y_pred = gb_clf.predict(X_test_standarized)\n",
    "\n",
    "# Evaluar\n",
    "accuracy = accuracy_score(y_test, y_pred)\n",
    "print(f'Accuracy: {accuracy}')\n",
    "print(f'Best Parameters: {best_params}')"
   ]
  }
 ],
 "metadata": {
  "kernelspec": {
   "display_name": "base",
   "language": "python",
   "name": "python3"
  },
  "language_info": {
   "codemirror_mode": {
    "name": "ipython",
    "version": 3
   },
   "file_extension": ".py",
   "mimetype": "text/x-python",
   "name": "python",
   "nbconvert_exporter": "python",
   "pygments_lexer": "ipython3",
   "version": "3.12.7"
  }
 },
 "nbformat": 4,
 "nbformat_minor": 2
}
