{
 "cells": [
  {
   "cell_type": "code",
   "execution_count": 3,
   "metadata": {},
   "outputs": [
    {
     "name": "stdout",
     "output_type": "stream",
     "text": [
      "Mean Squared Error: 232.38\n",
      "R² Score: 0.77\n"
     ]
    }
   ],
   "source": [
    "import pandas as pd\n",
    "import numpy as np\n",
    "import matplotlib.pyplot as plt\n",
    "import seaborn as sns\n",
    "from sklearn.model_selection import train_test_split\n",
    "from sklearn.preprocessing import StandardScaler\n",
    "from sklearn.ensemble import RandomForestRegressor\n",
    "from sklearn.metrics import mean_squared_error, r2_score\n",
    "\n",
    "# 📌 Cargar los datos\n",
    "data = pd.read_csv('../data/processed/weather_classification_data.csv')\n",
    "\n",
    "# 📌 Aplicar One-Hot Encoding en 'location'\n",
    "data = pd.get_dummies(data, columns=['location'])\n",
    "\n",
    "# 📌 Seleccionar features dinámicamente después de get_dummies()\n",
    "features = ['temperature', 'humidity', 'wind_speed', 'atmospheric_pressure', \n",
    "            'uv_index', 'visibility_(km)'] + list(data.filter(like='location_').columns)\n",
    "\n",
    "# 📌 Separar features y target\n",
    "target = 'precipitation_(%)'\n",
    "X = data[features]\n",
    "y = data[target]\n",
    "\n",
    "# 📌 Dividir en entrenamiento y prueba\n",
    "X_train, X_test, y_train, y_test = train_test_split(X, y, test_size=0.2, random_state=42)\n",
    "\n",
    "# 📌 Escalar los datos (opcional, pero recomendable)\n",
    "scaler = StandardScaler()\n",
    "X_train = scaler.fit_transform(X_train)\n",
    "X_test = scaler.transform(X_test)\n",
    "\n",
    "# 📌 Entrenar RandomForestRegressor\n",
    "model = RandomForestRegressor(n_estimators=100, random_state=42)\n",
    "model.fit(X_train, y_train)\n",
    "\n",
    "# 📌 Hacer predicciones\n",
    "y_pred = model.predict(X_test)\n",
    "\n",
    "# 📌 Evaluar el modelo\n",
    "mse = mean_squared_error(y_test, y_pred)\n",
    "r2 = r2_score(y_test, y_pred)\n",
    "\n",
    "print(f'Mean Squared Error: {mse:.2f}')\n",
    "print(f'R² Score: {r2:.2f}')\n"
   ]
  },
  {
   "cell_type": "markdown",
   "metadata": {},
   "source": [
    "## 🔹 Conclusiones Finales\n",
    "\n",
    "1️⃣ **Uso de One-Hot Encoding en `location`**  \n",
    "   - Se aplicó `pd.get_dummies(data, columns=['location'])` porque `location` es categórica pero no tiene un orden jerárquico.\n",
    "   - Esto evita que el modelo interprete una relación incorrecta entre ubicaciones.\n",
    "\n",
    "2️⃣ **Selección de características basada en datos reales**  \n",
    "   - Se excluyeron `weather_type`, `season` y `cloud_cover` para hacer que el modelo aprenda únicamente a partir de variables meteorológicas medibles.\n",
    "   - Esto permite que el modelo sea más útil en escenarios reales donde queremos predecir la lluvia sin depender de etiquetas climáticas.\n",
    "\n",
    "3️⃣ **Modelo de `RandomForestRegressor` optimizado**  \n",
    "   - Se dividió el dataset en entrenamiento y prueba con `train_test_split()`.\n",
    "   - Se aplicó `StandardScaler()` para mejorar la estabilidad del modelo (aunque los árboles no lo necesitan estrictamente).\n",
    "   - Se entrenó y evaluó el modelo con `mean_squared_error` y `r2_score` para medir su rendimiento.\n"
   ]
  }
 ],
 "metadata": {
  "kernelspec": {
   "display_name": "base",
   "language": "python",
   "name": "python3"
  },
  "language_info": {
   "codemirror_mode": {
    "name": "ipython",
    "version": 3
   },
   "file_extension": ".py",
   "mimetype": "text/x-python",
   "name": "python",
   "nbconvert_exporter": "python",
   "pygments_lexer": "ipython3",
   "version": "3.12.7"
  }
 },
 "nbformat": 4,
 "nbformat_minor": 2
}
