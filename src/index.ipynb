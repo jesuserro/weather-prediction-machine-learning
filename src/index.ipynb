{
 "cells": [
  {
   "cell_type": "code",
   "execution_count": 10,
   "metadata": {},
   "outputs": [],
   "source": [
    "import pandas as pd\n"
   ]
  },
  {
   "cell_type": "code",
   "execution_count": 11,
   "metadata": {},
   "outputs": [],
   "source": [
    "df = pd.read_csv('../data/raw/weather_classification_data.csv')\n",
    "\n",
    "# Normalize headers to lowercase and remove spaces\n",
    "df.columns = df.columns.str.lower().str.replace(' ', '_')"
   ]
  },
  {
   "cell_type": "code",
   "execution_count": 12,
   "metadata": {},
   "outputs": [
    {
     "data": {
      "text/plain": [
       "temperature             float64\n",
       "humidity                  int64\n",
       "wind_speed              float64\n",
       "precipitation_(%)       float64\n",
       "cloud_cover              object\n",
       "atmospheric_pressure    float64\n",
       "uv_index                  int64\n",
       "season                   object\n",
       "visibility_(km)         float64\n",
       "location                 object\n",
       "weather_type             object\n",
       "dtype: object"
      ]
     },
     "execution_count": 12,
     "metadata": {},
     "output_type": "execute_result"
    }
   ],
   "source": [
    "# Check for data types\n",
    "df.dtypes"
   ]
  },
  {
   "cell_type": "code",
   "execution_count": 13,
   "metadata": {},
   "outputs": [
    {
     "data": {
      "text/plain": [
       "temperature             0\n",
       "humidity                0\n",
       "wind_speed              0\n",
       "precipitation_(%)       0\n",
       "cloud_cover             0\n",
       "atmospheric_pressure    0\n",
       "uv_index                0\n",
       "season                  0\n",
       "visibility_(km)         0\n",
       "location                0\n",
       "weather_type            0\n",
       "dtype: int64"
      ]
     },
     "execution_count": 13,
     "metadata": {},
     "output_type": "execute_result"
    }
   ],
   "source": [
    "# Check for missing values\n",
    "df.isnull().sum()"
   ]
  },
  {
   "cell_type": "code",
   "execution_count": 14,
   "metadata": {},
   "outputs": [
    {
     "data": {
      "text/plain": [
       "0"
      ]
     },
     "execution_count": 14,
     "metadata": {},
     "output_type": "execute_result"
    }
   ],
   "source": [
    "# Check for duplicates\n",
    "df.duplicated().sum()"
   ]
  },
  {
   "cell_type": "code",
   "execution_count": 15,
   "metadata": {},
   "outputs": [
    {
     "data": {
      "text/html": [
       "<div>\n",
       "<style scoped>\n",
       "    .dataframe tbody tr th:only-of-type {\n",
       "        vertical-align: middle;\n",
       "    }\n",
       "\n",
       "    .dataframe tbody tr th {\n",
       "        vertical-align: top;\n",
       "    }\n",
       "\n",
       "    .dataframe thead th {\n",
       "        text-align: right;\n",
       "    }\n",
       "</style>\n",
       "<table border=\"1\" class=\"dataframe\">\n",
       "  <thead>\n",
       "    <tr style=\"text-align: right;\">\n",
       "      <th></th>\n",
       "      <th>count</th>\n",
       "      <th>unique</th>\n",
       "      <th>top</th>\n",
       "      <th>freq</th>\n",
       "      <th>mean</th>\n",
       "      <th>std</th>\n",
       "      <th>min</th>\n",
       "      <th>25%</th>\n",
       "      <th>50%</th>\n",
       "      <th>75%</th>\n",
       "      <th>max</th>\n",
       "    </tr>\n",
       "  </thead>\n",
       "  <tbody>\n",
       "    <tr>\n",
       "      <th>temperature</th>\n",
       "      <td>13200.0</td>\n",
       "      <td>NaN</td>\n",
       "      <td>NaN</td>\n",
       "      <td>NaN</td>\n",
       "      <td>19.127576</td>\n",
       "      <td>17.386327</td>\n",
       "      <td>-25.0</td>\n",
       "      <td>4.0</td>\n",
       "      <td>21.0</td>\n",
       "      <td>31.0</td>\n",
       "      <td>109.0</td>\n",
       "    </tr>\n",
       "    <tr>\n",
       "      <th>humidity</th>\n",
       "      <td>13200.0</td>\n",
       "      <td>NaN</td>\n",
       "      <td>NaN</td>\n",
       "      <td>NaN</td>\n",
       "      <td>68.710833</td>\n",
       "      <td>20.194248</td>\n",
       "      <td>20.0</td>\n",
       "      <td>57.0</td>\n",
       "      <td>70.0</td>\n",
       "      <td>84.0</td>\n",
       "      <td>109.0</td>\n",
       "    </tr>\n",
       "    <tr>\n",
       "      <th>wind_speed</th>\n",
       "      <td>13200.0</td>\n",
       "      <td>NaN</td>\n",
       "      <td>NaN</td>\n",
       "      <td>NaN</td>\n",
       "      <td>9.832197</td>\n",
       "      <td>6.908704</td>\n",
       "      <td>0.0</td>\n",
       "      <td>5.0</td>\n",
       "      <td>9.0</td>\n",
       "      <td>13.5</td>\n",
       "      <td>48.5</td>\n",
       "    </tr>\n",
       "    <tr>\n",
       "      <th>precipitation_(%)</th>\n",
       "      <td>13200.0</td>\n",
       "      <td>NaN</td>\n",
       "      <td>NaN</td>\n",
       "      <td>NaN</td>\n",
       "      <td>53.644394</td>\n",
       "      <td>31.946541</td>\n",
       "      <td>0.0</td>\n",
       "      <td>19.0</td>\n",
       "      <td>58.0</td>\n",
       "      <td>82.0</td>\n",
       "      <td>109.0</td>\n",
       "    </tr>\n",
       "    <tr>\n",
       "      <th>cloud_cover</th>\n",
       "      <td>13200</td>\n",
       "      <td>4</td>\n",
       "      <td>overcast</td>\n",
       "      <td>6090</td>\n",
       "      <td>NaN</td>\n",
       "      <td>NaN</td>\n",
       "      <td>NaN</td>\n",
       "      <td>NaN</td>\n",
       "      <td>NaN</td>\n",
       "      <td>NaN</td>\n",
       "      <td>NaN</td>\n",
       "    </tr>\n",
       "    <tr>\n",
       "      <th>atmospheric_pressure</th>\n",
       "      <td>13200.0</td>\n",
       "      <td>NaN</td>\n",
       "      <td>NaN</td>\n",
       "      <td>NaN</td>\n",
       "      <td>1005.827896</td>\n",
       "      <td>37.199589</td>\n",
       "      <td>800.12</td>\n",
       "      <td>994.8</td>\n",
       "      <td>1007.65</td>\n",
       "      <td>1016.7725</td>\n",
       "      <td>1199.21</td>\n",
       "    </tr>\n",
       "    <tr>\n",
       "      <th>uv_index</th>\n",
       "      <td>13200.0</td>\n",
       "      <td>NaN</td>\n",
       "      <td>NaN</td>\n",
       "      <td>NaN</td>\n",
       "      <td>4.005758</td>\n",
       "      <td>3.8566</td>\n",
       "      <td>0.0</td>\n",
       "      <td>1.0</td>\n",
       "      <td>3.0</td>\n",
       "      <td>7.0</td>\n",
       "      <td>14.0</td>\n",
       "    </tr>\n",
       "    <tr>\n",
       "      <th>season</th>\n",
       "      <td>13200</td>\n",
       "      <td>4</td>\n",
       "      <td>Winter</td>\n",
       "      <td>5610</td>\n",
       "      <td>NaN</td>\n",
       "      <td>NaN</td>\n",
       "      <td>NaN</td>\n",
       "      <td>NaN</td>\n",
       "      <td>NaN</td>\n",
       "      <td>NaN</td>\n",
       "      <td>NaN</td>\n",
       "    </tr>\n",
       "    <tr>\n",
       "      <th>visibility_(km)</th>\n",
       "      <td>13200.0</td>\n",
       "      <td>NaN</td>\n",
       "      <td>NaN</td>\n",
       "      <td>NaN</td>\n",
       "      <td>5.462917</td>\n",
       "      <td>3.371499</td>\n",
       "      <td>0.0</td>\n",
       "      <td>3.0</td>\n",
       "      <td>5.0</td>\n",
       "      <td>7.5</td>\n",
       "      <td>20.0</td>\n",
       "    </tr>\n",
       "    <tr>\n",
       "      <th>location</th>\n",
       "      <td>13200</td>\n",
       "      <td>3</td>\n",
       "      <td>inland</td>\n",
       "      <td>4816</td>\n",
       "      <td>NaN</td>\n",
       "      <td>NaN</td>\n",
       "      <td>NaN</td>\n",
       "      <td>NaN</td>\n",
       "      <td>NaN</td>\n",
       "      <td>NaN</td>\n",
       "      <td>NaN</td>\n",
       "    </tr>\n",
       "    <tr>\n",
       "      <th>weather_type</th>\n",
       "      <td>13200</td>\n",
       "      <td>4</td>\n",
       "      <td>Rainy</td>\n",
       "      <td>3300</td>\n",
       "      <td>NaN</td>\n",
       "      <td>NaN</td>\n",
       "      <td>NaN</td>\n",
       "      <td>NaN</td>\n",
       "      <td>NaN</td>\n",
       "      <td>NaN</td>\n",
       "      <td>NaN</td>\n",
       "    </tr>\n",
       "  </tbody>\n",
       "</table>\n",
       "</div>"
      ],
      "text/plain": [
       "                        count unique       top  freq         mean        std  \\\n",
       "temperature           13200.0    NaN       NaN   NaN    19.127576  17.386327   \n",
       "humidity              13200.0    NaN       NaN   NaN    68.710833  20.194248   \n",
       "wind_speed            13200.0    NaN       NaN   NaN     9.832197   6.908704   \n",
       "precipitation_(%)     13200.0    NaN       NaN   NaN    53.644394  31.946541   \n",
       "cloud_cover             13200      4  overcast  6090          NaN        NaN   \n",
       "atmospheric_pressure  13200.0    NaN       NaN   NaN  1005.827896  37.199589   \n",
       "uv_index              13200.0    NaN       NaN   NaN     4.005758     3.8566   \n",
       "season                  13200      4    Winter  5610          NaN        NaN   \n",
       "visibility_(km)       13200.0    NaN       NaN   NaN     5.462917   3.371499   \n",
       "location                13200      3    inland  4816          NaN        NaN   \n",
       "weather_type            13200      4     Rainy  3300          NaN        NaN   \n",
       "\n",
       "                         min    25%      50%        75%      max  \n",
       "temperature            -25.0    4.0     21.0       31.0    109.0  \n",
       "humidity                20.0   57.0     70.0       84.0    109.0  \n",
       "wind_speed               0.0    5.0      9.0       13.5     48.5  \n",
       "precipitation_(%)        0.0   19.0     58.0       82.0    109.0  \n",
       "cloud_cover              NaN    NaN      NaN        NaN      NaN  \n",
       "atmospheric_pressure  800.12  994.8  1007.65  1016.7725  1199.21  \n",
       "uv_index                 0.0    1.0      3.0        7.0     14.0  \n",
       "season                   NaN    NaN      NaN        NaN      NaN  \n",
       "visibility_(km)          0.0    3.0      5.0        7.5     20.0  \n",
       "location                 NaN    NaN      NaN        NaN      NaN  \n",
       "weather_type             NaN    NaN      NaN        NaN      NaN  "
      ]
     },
     "execution_count": 15,
     "metadata": {},
     "output_type": "execute_result"
    }
   ],
   "source": [
    "df.describe(include='all').T"
   ]
  },
  {
   "cell_type": "code",
   "execution_count": 18,
   "metadata": {},
   "outputs": [
    {
     "data": {
      "text/plain": [
       "temperature              126\n",
       "humidity                  90\n",
       "wind_speed                97\n",
       "precipitation_(%)        110\n",
       "cloud_cover                4\n",
       "atmospheric_pressure    5456\n",
       "uv_index                  15\n",
       "season                     4\n",
       "visibility_(km)           41\n",
       "location                   3\n",
       "weather_type               4\n",
       "dtype: int64"
      ]
     },
     "execution_count": 18,
     "metadata": {},
     "output_type": "execute_result"
    }
   ],
   "source": [
    "# Check for unique values\n",
    "df.nunique()"
   ]
  },
  {
   "cell_type": "code",
   "execution_count": 19,
   "metadata": {},
   "outputs": [
    {
     "data": {
      "text/plain": [
       "array(['Rainy', 'Cloudy', 'Sunny', 'Snowy'], dtype=object)"
      ]
     },
     "execution_count": 19,
     "metadata": {},
     "output_type": "execute_result"
    }
   ],
   "source": [
    "df['weather_type'].unique()"
   ]
  }
 ],
 "metadata": {
  "kernelspec": {
   "display_name": "base",
   "language": "python",
   "name": "python3"
  },
  "language_info": {
   "codemirror_mode": {
    "name": "ipython",
    "version": 3
   },
   "file_extension": ".py",
   "mimetype": "text/x-python",
   "name": "python",
   "nbconvert_exporter": "python",
   "pygments_lexer": "ipython3",
   "version": "3.12.7"
  }
 },
 "nbformat": 4,
 "nbformat_minor": 2
}
